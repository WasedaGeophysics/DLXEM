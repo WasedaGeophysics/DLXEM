{
 "cells": [
  {
   "cell_type": "markdown",
   "metadata": {},
   "source": [
    "# $\\mathrm{EMDL \\: \\& \\: Neural \\: Network \\: Inversion}$\n",
    "## $\\mathrm{RESOLVE \\: \\: Edition}$\n",
    "## * Before you run all cells, please fill out INPUT CELL."
   ]
  },
  {
   "cell_type": "markdown",
   "metadata": {},
   "source": [
    "## Import Python Libraries"
   ]
  },
  {
   "cell_type": "code",
   "execution_count": 1,
   "metadata": {},
   "outputs": [],
   "source": [
    "# Built-in : \n",
    "import sys, os\n",
    "import json\n",
    "import warnings\n",
    "# Dependent : \n",
    "import numpy as np\n",
    "import matplotlib.pyplot as plt\n",
    "import matplotlib as mpl\n",
    "import pandas as pd\n",
    "\n",
    "from tensorflow.keras.models import load_model\n",
    "from sklearn import preprocessing\n",
    "from sklearn.model_selection import train_test_split\n",
    "# Local script : \n",
    "sys.path.append('../../')\n",
    "from script import ModelingToolKit as mtk\n",
    "from script import GenerateDataset as gd\n",
    "from script import networks\n",
    "from script import emplot\n",
    "from script import emforward as emf\n",
    "from script import emdlGL as gl\n",
    "%matplotlib inline"
   ]
  },
  {
   "cell_type": "markdown",
   "metadata": {},
   "source": [
    "## INPUT CELL"
   ]
  },
  {
   "cell_type": "code",
   "execution_count": 2,
   "metadata": {},
   "outputs": [],
   "source": [
    "# name of this inversion (filename header)\n",
    "name = 'sample'"
   ]
  },
  {
   "cell_type": "code",
   "execution_count": 3,
   "metadata": {},
   "outputs": [],
   "source": [
    "### 1D HORIZONTAL MULTI-LAYERD STRUCTURE MODEL #####################\n",
    "surface_layer_thickness = 0.5\n",
    "\n",
    "final_boundary_depth = 150\n",
    "\n",
    "number_of_layers = 30\n",
    "\n",
    "split_scale = 'log'\n",
    "# Thickness / manual\n",
    "manual_thickness = []\n",
    "\n",
    "# Resistivity range (Ohm-m)\n",
    "resistivity_range = [1, 10000]\n",
    "\n",
    "# Resistivity generation mode\n",
    "generate_mode = 'TypeA'\n",
    "\n",
    "\n",
    "### RESOLVE SYSTEM #################################################\n",
    "# Bird height range (m)\n",
    "bird_height_range = [20, 100]\n",
    "\n",
    "# Operating Frequencies (Hz) / nominal frequencies : freqs = [140000, 40000, 8200, 3300, 1800, 400]\n",
    "# VCA(VCX) Coil data around 3300 Hz is optional, but must be included at 4th index of the list.\n",
    "freqs = [130100, 35920, 7970, 3528, 1822, 382]\n",
    "\n",
    "# Operating Coil Separation (m) / nominal separation : spans = [7.86, 7.86, 7.86, 8.99, 7.86, 7.86]\n",
    "# VCA(VCX) Coil data around 3300 Hz is optional, but must be included at 4th index of the list.\n",
    "# Order must be the same as frequencies list.\n",
    "spans = [7.86, 7.86, 7.86, 8.99, 7.86, 7.86]\n",
    "\n",
    "# Gauss Noise Level\n",
    "## average (ppm)\n",
    "noise_ave = [0, 0, 0, 0, 0, 0]\n",
    "## standard deviation (ppm)\n",
    "noise_std = [50, 40, 20, 10, 10, 10]\n",
    "\n",
    "\n",
    "### DEEP LEARNING ##################################################\n",
    "# Dataset size\n",
    "dataset_size = 5000\n",
    "# Batch size\n",
    "batch_size = 600\n",
    "# Epochs\n",
    "epochs = 50\n",
    "\n",
    "\n",
    "### FIELD DATA FILE (CSV ONLY)######################################\n",
    "# field or project name\n",
    "field_name = 'murray_river'\n",
    "\n",
    "# file path\n",
    "fielddata_filepath = \"../../field_data/bookpurnong_resolve.csv\"\n",
    "\n",
    "## HEADER ##\n",
    "# Survey Line, FID, UTCtime\n",
    "IDHeader = [\n",
    "    'Line', 'fid', 'utctime'\n",
    "]\n",
    "\n",
    "# Bird UTM coordinate, Elevation (m)\n",
    "LocHeader = [\n",
    "    'bird_easting', 'bird_northing', 'elevation'\n",
    "]\n",
    "\n",
    "# Magnetic Field data (ppm)\n",
    "EMHeader = [\n",
    "    'em[10]', 'em[8]', 'em[6]', 'em[4]', 'em[2]', 'em[0]',\n",
    "    'em[11]', 'em[9]', 'em[7]', 'em[5]', 'em[3]', 'em[1]',\n",
    "]\n",
    "# Bird Height (m)\n",
    "BHHeader = 'bird_height'\n",
    "\n",
    "# Missing Data Object\n",
    "nan_char = ['*']"
   ]
  },
  {
   "cell_type": "markdown",
   "metadata": {},
   "source": [
    "## Model Definition"
   ]
  },
  {
   "cell_type": "code",
   "execution_count": 4,
   "metadata": {},
   "outputs": [
    {
     "name": "stdout",
     "output_type": "stream",
     "text": [
      "Layer Boundary Depth (m)\n",
      "  0.000 |   0.500 |   0.613 |   0.751 |   0.921 |   1.129 |   1.385 |   1.697 |   2.081 |   2.551 | \n",
      "  3.127 |   3.834 |   4.700 |   5.762 |   7.064 |   8.660 |  10.617 |  13.016 |  15.956 |  19.562 | \n",
      " 23.981 |  29.400 |  36.042 |  44.185 |  54.169 |  66.407 |  81.411 |  99.805 | 122.355 | 150.000 | \n",
      "Layer Thickness (m)\n",
      "  0.500 |   0.113 |   0.138 |   0.170 |   0.208 |   0.255 |   0.313 |   0.384 |   0.470 |   0.576 | \n",
      "  0.707 |   0.866 |   1.062 |   1.302 |   1.596 |   1.957 |   2.399 |   2.941 |   3.605 |   4.420 | \n",
      "  5.418 |   6.643 |   8.143 |   9.983 |  12.239 |  15.004 |  18.394 |  22.550 |  27.645 | infinity|\n"
     ]
    }
   ],
   "source": [
    "warnings.simplefilter('ignore')\n",
    "thickness = mtk.tmake(surface_layer_thickness, final_boundary_depth, number_of_layers, scale=split_scale)\n",
    "if manual_thickness:\n",
    "    thickness = manual_thickness\n",
    "depth = mtk.dmake(thickness)\n",
    "mtk.show_structure(thickness, depth)\n"
   ]
  },
  {
   "cell_type": "markdown",
   "metadata": {},
   "source": [
    "## Generate Datasets"
   ]
  },
  {
   "cell_type": "code",
   "execution_count": 5,
   "metadata": {},
   "outputs": [
    {
     "name": "stdout",
     "output_type": "stream",
     "text": [
      "WARNING:tensorflow:From /Users/quetzal/opt/anaconda3/envs/dlabpy37/lib/python3.7/site-packages/tensorflow/python/ops/init_ops.py:97: calling GlorotUniform.__init__ (from tensorflow.python.ops.init_ops) with dtype is deprecated and will be removed in a future version.\n",
      "Instructions for updating:\n",
      "Call initializer instance with the dtype argument instead of passing it to the constructor\n",
      "WARNING:tensorflow:From /Users/quetzal/opt/anaconda3/envs/dlabpy37/lib/python3.7/site-packages/tensorflow/python/ops/init_ops.py:1251: calling VarianceScaling.__init__ (from tensorflow.python.ops.init_ops) with dtype is deprecated and will be removed in a future version.\n",
      "Instructions for updating:\n",
      "Call initializer instance with the dtype argument instead of passing it to the constructor\n",
      "WARNING:tensorflow:From /Users/quetzal/opt/anaconda3/envs/dlabpy37/lib/python3.7/site-packages/tensorflow/python/ops/init_ops.py:97: calling Zeros.__init__ (from tensorflow.python.ops.init_ops) with dtype is deprecated and will be removed in a future version.\n",
      "Instructions for updating:\n",
      "Call initializer instance with the dtype argument instead of passing it to the constructor\n",
      "The Specified Dataset & Neural Network Model Already Exists.\n"
     ]
    }
   ],
   "source": [
    "config = {\n",
    "    'size' : dataset_size,\n",
    "    'thicks' : thickness,\n",
    "    'bgrlim' : resistivity_range,\n",
    "    'bhlim' : bird_height_range,\n",
    "    'freqs' : freqs,\n",
    "    'spans' : spans,\n",
    "    'noise_ave' : noise_ave,\n",
    "    'noise_std' : noise_std,\n",
    "    'generate_mode' : generate_mode\n",
    "}\n",
    "\n",
    "os.environ['TF_CPP_MIN_LOG_LEVEL']='2'\n",
    "dataset_dir = 'result/'\n",
    "dsetfile_path = dataset_dir + name + '_dataset.csv'\n",
    "\n",
    "model_dir = 'network/'\n",
    "histfile_path = model_dir + name + '_history.csv'\n",
    "nnetfile_path = model_dir + name + '_network.h5'\n",
    "\n",
    "if os.path.exists(dsetfile_path):\n",
    "    df = pd.read_csv(dsetfile_path, header=None)\n",
    "    network = load_model(nnetfile_path)\n",
    "    hist_df = pd.read_csv(histfile_path)\n",
    "    tofit = False\n",
    "    print('The Specified Dataset & Neural Network Model Already Exists.')\n",
    "else:\n",
    "    resolve = gd.Resolve1D(**config)\n",
    "    data = resolve.proceed()\n",
    "    df = pd.DataFrame(data)\n",
    "    df.to_csv(dsetfile_path, header=None, index=False)\n",
    "    tofit = True\n",
    "    print(\"-> /\" + dsetfile_path)"
   ]
  },
  {
   "cell_type": "markdown",
   "metadata": {},
   "source": [
    "## Deep Learning"
   ]
  },
  {
   "cell_type": "code",
   "execution_count": 6,
   "metadata": {},
   "outputs": [],
   "source": [
    "# 説明変数の次元\n",
    "bird_height_in_x = True\n",
    "nx = 2 * len(freqs) + int(bird_height_in_x)\n",
    "# 層数\n",
    "nlayer = len(depth)\n",
    "\n",
    "#分割\n",
    "x = df.iloc[:, :nx].values\n",
    "y = df.iloc[:, nx:].values\n",
    "y = np.log10(y)\n",
    "x_train, x_val_test, y_train, y_val_test = train_test_split(x, y, test_size=0.02, random_state=0)\n",
    "x_val, x_test, y_val, y_test = train_test_split(x_val_test, y_val_test, test_size=0.5, random_state=0)\n",
    "x_test_org = x_test.copy()\n",
    "y_test_org = y_test.copy()\n",
    "\n",
    "#正規化\n",
    "sc = preprocessing.StandardScaler()\n",
    "sc.fit(x_train)\n",
    "x_train = sc.transform(x_train)\n",
    "x_test = sc.transform(x_test)\n",
    "x_val = sc.transform(x_val)\n",
    "\n",
    "# 新しいデータセットが用意された場合、学習を実行する\n",
    "if tofit:\n",
    "    input_dim = x.shape[1]\n",
    "    output_dim = y.shape[1]\n",
    "    network = networks.get_dnn(input_dim, output_dim)\n",
    "    history = network.fit(x_train, y_train, batch_size=batch_size, epochs=epochs, verbose=2, validation_data=(x_val, y_val))\n",
    "    network.save(nnetfile_path)\n",
    "    hist_df = pd.DataFrame(history.history)\n",
    "    hist_df.to_csv(histfile_path)\n"
   ]
  },
  {
   "cell_type": "markdown",
   "metadata": {},
   "source": [
    "## Validation Test"
   ]
  },
  {
   "cell_type": "code",
   "execution_count": 7,
   "metadata": {},
   "outputs": [
    {
     "data": {
      "text/plain": [
       "<Figure size 432x288 with 0 Axes>"
      ]
     },
     "metadata": {},
     "output_type": "display_data"
    },
    {
     "data": {
      "image/png": "[encoded data removed]",
      "text/plain": [
       "<Figure size 432x288 with 1 Axes>"
      ]
     },
     "metadata": {
      "needs_background": "light"
     },
     "output_type": "display_data"
    }
   ],
   "source": [
    "gl.loss_plot(hist_df, epochs)"
   ]
  },
  {
   "cell_type": "markdown",
   "metadata": {},
   "source": [
    "## Analysing Field Data"
   ]
  },
  {
   "cell_type": "code",
   "execution_count": 8,
   "metadata": {},
   "outputs": [
    {
     "name": "stdout",
     "output_type": "stream",
     "text": [
      "the result has already saved.\n"
     ]
    }
   ],
   "source": [
    "save_path = \"result/\" + field_name + \"_\" + name + \".csv\"\n",
    "\n",
    "datafile_format = fielddata_filepath.split(sep='.')[-1]\n",
    "\n",
    "pickup_columns = IDHeader + LocHeader + EMHeader + [BHHeader]\n",
    "numlayer = len(depth)\n",
    "RESHeader = ['R{}'.format(i+1) for i in range(numlayer)]\n",
    "\n",
    "if bird_height_in_x:\n",
    "    XVHeader = EMHeader + [BHHeader]\n",
    "    YVHeader = RESHeader\n",
    "else:\n",
    "    XVHeader = EMHeader\n",
    "    YVHeader = [BHHeader] + RESHeader\n",
    "\n",
    "if os.path.exists(save_path):\n",
    "    print('the result has already saved.')\n",
    "    pass\n",
    "\n",
    "else:\n",
    "    if datafile_format == 'csv':\n",
    "        data = pd.read_csv(fielddata_filepath)\n",
    "        dfd = data.loc[:, pickup_columns].values\n",
    "        df = pd.DataFrame(dfd, columns=pickup_columns)\n",
    "        # 欠損値を含む行\n",
    "        for c in nan_char:\n",
    "            df = df.replace(c, np.nan)\n",
    "        \n",
    "        for xh in XVHeader:\n",
    "            df = df[df[xh] != np.nan]\n",
    "\n",
    "        x = df[XVHeader].values\n",
    "        ide = df[IDHeader].values\n",
    "        loc = df[LocHeader].values\n",
    "        h = np.array([df[BHHeader].values]).T\n",
    "\n",
    "        stdx = sc.transform(x)\n",
    "        y = network.predict(stdx)\n",
    "        y = 10 ** y\n",
    "\n",
    "        header = [*IDHeader, *LocHeader, 'ALTBIRDO', *XVHeader, *YVHeader]\n",
    "        rdata = np.hstack([ide, loc, h, x, y])\n",
    "        rdf = pd.DataFrame(rdata)\n",
    "        rdf.to_csv(save_path, header=header, index=False)\n",
    "        print('the result is saved at ' + save_path)\n",
    "    else:\n",
    "        print('datafile format must be csv')"
   ]
  },
  {
   "cell_type": "code",
   "execution_count": 9,
   "metadata": {},
   "outputs": [
    {
     "name": "stdout",
     "output_type": "stream",
     "text": [
      "Already saved\n"
     ]
    }
   ],
   "source": [
    "# 設定の保存\n",
    "settings = {\n",
    "    'network' : {\n",
    "        'name' : name,\n",
    "        'epochs' : epochs,\n",
    "        'batch_size' : batch_size,\n",
    "\n",
    "    },\n",
    "    'subsurface' : {\n",
    "        'thickness' : list(thickness),\n",
    "        'depth' : list(depth)\n",
    "\n",
    "    },\n",
    "    'resolvedataset' : {\n",
    "        'dataset_size' : dataset_size,\n",
    "        'resistivity_range' : resistivity_range,\n",
    "        'bird_height_range' : bird_height_range,\n",
    "        'frequency' : freqs,\n",
    "        'separetion' : spans,\n",
    "        'noise_ave' : noise_ave,\n",
    "        'noise_std' : noise_std,\n",
    "        'generate_mode' : generate_mode,\n",
    "        'bird_height_in_x' : bird_height_in_x\n",
    "    },\n",
    "    'fielddata' : {\n",
    "        'field_name' : field_name,\n",
    "        'fielddata_filepath' : fielddata_filepath,\n",
    "        'nan_char' : nan_char\n",
    "    }\n",
    "}\n",
    "if not os.path.exists(f'result/config_{name}_{field_name}.json'):\n",
    "    with open(f'result/config_{name}_{field_name}.json', 'w') as fp:\n",
    "        json.dump(settings, fp, indent=4)\n",
    "else:\n",
    "    print('Already saved')"
   ]
  },
  {
   "cell_type": "markdown",
   "metadata": {},
   "source": [
    "## Resistivity / Conductivity Depth Image"
   ]
  },
  {
   "cell_type": "code",
   "execution_count": 16,
   "metadata": {
    "scrolled": false
   },
   "outputs": [
    {
     "data": {
      "application/vnd.jupyter.widget-view+json": {
       "model_id": "18370bb3ec464e5ab33fd3a68fff608d",
       "version_major": 2,
       "version_minor": 0
      },
      "text/plain": [
       "interactive(children=(Dropdown(description='Line_No', options=(30010, 30030, 30040, 30050, 30060, 30070, 30080…"
      ]
     },
     "metadata": {},
     "output_type": "display_data"
    }
   ],
   "source": [
    "import scipy.constants as const\n",
    "from mpl_toolkits.axes_grid1 import make_axes_locatable\n",
    "from ipywidgets import interact, widgets, interact_manual\n",
    "from IPython.display import display\n",
    "\n",
    "df = pd.read_csv(save_path)\n",
    "lines = df[IDHeader[0]].values\n",
    "linetype = lines.dtype\n",
    "if lines.dtype in [np.float64]:\n",
    "    lines = lines.astype(np.int64)\n",
    "lines = lines.astype(np.object)\n",
    "line_no_list = []\n",
    "logg = 0\n",
    "for nomb in lines:\n",
    "    if nomb == logg:\n",
    "        logg = nomb\n",
    "    else:\n",
    "        line_no_list.append(nomb)\n",
    "        logg = nomb\n",
    "\n",
    "Value_min = [0.1, 1, 10, 100]\n",
    "Value_max = [100, 1000, 10000, 100000]\n",
    "Property = ['resistivity (Ohm-m)', 'conductivity (mS/m)']\n",
    "\n",
    "# @interact(Line_No=line_no_list, Property=Property, Value_min=Value_min, Value_max=Value_max, )\n",
    "def DIplot(Line_No, Property, Value_min, Value_max):\n",
    "    inline = df[df[IDHeader[0]].astype(np.object)==Line_No]\n",
    "\n",
    "    easting = inline[LocHeader[0]].values\n",
    "    northing = inline[LocHeader[1]].values\n",
    "    elevation = inline[LocHeader[2]].values\n",
    "    linesize = len(easting)\n",
    "    # from east\n",
    "    if easting[0] > easting[-1]:\n",
    "        start = linesize-1\n",
    "    # from west\n",
    "    else:\n",
    "        start = 0\n",
    "\n",
    "    distance = []\n",
    "    start_east = easting[start]\n",
    "    start_north = northing[start]\n",
    "    for i in np.arange(0, linesize):\n",
    "        dist = np.sqrt((northing[i]-start_north)**2 + (easting[i]-start_east)**2)\n",
    "        distance.append(dist)\n",
    "    distance = np.array(distance)\n",
    "\n",
    "    theight = inline['ALTBIRDO'].values\n",
    "    pheight = inline[BHHeader].values\n",
    "    res = inline[RESHeader].values\n",
    "\n",
    "    if Property == 'resistivity (Ohm-m)':\n",
    "        cval = res\n",
    "        cmap_name = 'jet_r'\n",
    "        cmap = plt.cm.jet_r\n",
    "    elif Property == 'conductivity (mS/m)':\n",
    "        cval = 1/res*1000\n",
    "        cmap_name = 'jet'\n",
    "        cmap = plt.cm.jet\n",
    "\n",
    "    cvalmax = Value_max\n",
    "    cvalmin = Value_min\n",
    "\n",
    "    cstd = (cval-cvalmin)/(cvalmax-cvalmin)\n",
    "    cmaps = plt.cm.jet_r(cstd)\n",
    "\n",
    "    depthadd = np.append(depth, 2*depth.max())\n",
    "    fmin = min(freqs)\n",
    "\n",
    "    plt.rcParams[\"font.size\"] = 30\n",
    "    plt.tight_layout()\n",
    "    #plt.style.use('default')\n",
    "    fig = plt.figure(figsize=(30, 8), dpi=100)\n",
    "    ax = fig.add_subplot(111)\n",
    "    norm = mpl.colors.LogNorm(vmin=cvalmin, vmax=cvalmax)\n",
    "    for i in range(len(distance)-1):\n",
    "        progress = int(i/(linesize-2)*100)\n",
    "        print(\"\\r\"+\"Progress ... \"+str(progress)+\" %\",end=\"\")\n",
    "        # apparent skin dapth\n",
    "        reg = theight[i]/np.sqrt(2e14/const.mu_0/np.pi/fmin)\n",
    "        j = 0\n",
    "        while (reg <= 1) and (j<29):\n",
    "            reg += (depth[j+1] - depth[j]) / np.sqrt(res[i][j]/const.mu_0/np.pi/fmin)\n",
    "            j += 1\n",
    "        over = reg - 1\n",
    "        overL = np.sqrt(res[i][j-1]/const.mu_0/np.pi/fmin) * over\n",
    "        cval[i][j:] = np.nan\n",
    "        depthadd = np.append(depth, 2*depth.max())\n",
    "        depthadd[j] -= overL\n",
    "\n",
    "        mesh_x, mesh_y = np.meshgrid(distance[i:i+2], -depthadd+elevation[i])\n",
    "        cross_section = ax.pcolormesh(mesh_x, mesh_y, cval[i].reshape(len(cval[i]), 1), norm=norm, cmap=cmap_name, shading='flat')\n",
    "\n",
    "    norm = mpl.colors.LogNorm(vmin=cvalmin, vmax=cvalmax)\n",
    "    m = mpl.cm.ScalarMappable(cmap=cmap, norm=norm)\n",
    "    divider = make_axes_locatable(ax)\n",
    "    cax = divider.append_axes(\"right\", size=\"2%\", pad=0.1)\n",
    "    if type(Line_No) in [float, np.float64]:\n",
    "        Line_No = int(Line_No)\n",
    "\n",
    "    if Property == 'resistivity (Ohm-m)':\n",
    "        cbar = fig.colorbar(m, cax=cax, label='Resistivity ($\\Omega\\cdot$m)', extend='both')\n",
    "        ax.set_title('Resistivity Depth Image below Line ' + str(Line_No))\n",
    "    elif Property == 'conductivity (mS/m)':\n",
    "        cbar = fig.colorbar(m, cax=cax, label='Conductivity (mS/m)', extend='both')\n",
    "        ax.set_title('Conductivity Depth Image below Line ' + str(Line_No))\n",
    "        \n",
    "    bird_line = elevation+theight\n",
    "    ax.plot(distance, bird_line, color='k', label='bird elevation (observed)')\n",
    "\n",
    "    ax.set(xlim=(distance.min(), distance.max()), ylim=(-40, bird_line.max()))\n",
    "    ax.grid()\n",
    "    ax.set_xlabel('West            Distance [m]            East')\n",
    "    ax.set_ylabel('Elevation [m]')\n",
    "\n",
    "    plt.show()\n",
    "\n",
    "myim = interact_manual.options(manual_name='Show Image')\n",
    "myim(DIplot, Line_No=line_no_list, Property=Property, Value_min=Value_min, Value_max=Value_max);"
   ]
  },
  {
   "cell_type": "code",
   "execution_count": null,
   "metadata": {},
   "outputs": [],
   "source": []
  }
 ],
 "metadata": {
  "interpreter": {
   "hash": "ac921b6e1b1f90ea2700b27250030dcf86b52ea4891e657e56adc1549b633c5b"
  },
  "kernelspec": {
   "display_name": "Python 3",
   "language": "python",
   "name": "python3"
  },
  "language_info": {
   "codemirror_mode": {
    "name": "ipython",
    "version": 3
   },
   "file_extension": ".py",
   "mimetype": "text/x-python",
   "name": "python",
   "nbconvert_exporter": "python",
   "pygments_lexer": "ipython3",
   "version": "3.7.7"
  },
  "metadata": {
   "interpreter": {
    "hash": "c13f70dffa5cdf3bd9c6c39df9dc61a13f2ef6bb2d6b8fdd793e76224c87a417"
   }
  }
 },
 "nbformat": 4,
 "nbformat_minor": 4
}
