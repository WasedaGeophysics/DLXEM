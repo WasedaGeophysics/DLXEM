{
 "cells": [
  {
   "cell_type": "markdown",
   "metadata": {},
   "source": [
    "# RESOLVE01 学習データの生成・DNNモデルの構築\n",
    "松本(2020)が再現できる範囲"
   ]
  },
  {
   "cell_type": "code",
   "execution_count": 7,
   "metadata": {},
   "outputs": [
    {
     "output_type": "execute_result",
     "data": {
      "text/plain": [
       "'/Users/quetzal/GL/geophysics/Repos/DLXEM/environment'"
      ]
     },
     "metadata": {},
     "execution_count": 7
    }
   ],
   "source": [
    "%pwd # ~/ch01_generate_datasetsならOK"
   ]
  },
  {
   "cell_type": "markdown",
   "metadata": {},
   "source": [
    "## 1.1 データ生成"
   ]
  },
  {
   "cell_type": "markdown",
   "metadata": {},
   "source": [
    "- import"
   ]
  },
  {
   "cell_type": "code",
   "execution_count": 8,
   "metadata": {},
   "outputs": [],
   "source": [
    "import numpy as np\n",
    "import pandas as pd\n",
    "import sys, os\n",
    "from keras.models import Sequential\n",
    "from keras.layers import Dense, Dropout\n",
    "from keras.optimizers import Adam\n",
    "from sklearn import preprocessing\n",
    "from sklearn.model_selection import train_test_split\n",
    "\n",
    "sys.path.append('../')\n",
    "from dlxem import emexecutor as em\n",
    "from dlxem import networks"
   ]
  },
  {
   "source": [
    "- settings"
   ],
   "cell_type": "markdown",
   "metadata": {}
  },
  {
   "cell_type": "code",
   "execution_count": 9,
   "metadata": {},
   "outputs": [],
   "source": [
    "config = {\n",
    "    'thicks' : [1 for i in range(100)],\n",
    "    'res_range' : (1e-2, 1e4),\n",
    "    'height_range' : (15, 75),\n",
    "    'freqs' : [382, 1822, 7970, 35920, 130100],\n",
    "    'span' : 7.86,\n",
    "    'to_ppm' : True,\n",
    "    'add_noise' : True,\n",
    "    'noise_level' : [10, 10, 20, 40, 50],\n",
    "    'random_mode' : 'smooth_mix',\n",
    "    'ground_char' : 'r'\n",
    "}\n",
    "\n",
    "size = 20000\n",
    "parallel_num = 8\n",
    "file_name = 'DB/dataset/20210625_a_{}_resolve.csv'.format(size)"
   ]
  },
  {
   "cell_type": "markdown",
   "metadata": {},
   "source": [
    "- run"
   ]
  },
  {
   "cell_type": "code",
   "execution_count": 10,
   "metadata": {},
   "outputs": [
    {
     "output_type": "stream",
     "name": "stdout",
     "text": [
      "Datasets already exist\n"
     ]
    }
   ],
   "source": [
    "%% time\n",
    "if os.path.exists(file_name):\n",
    "    print('Datasets already exist')\n",
    "else:\n",
    "    resolve = em.Resolve1D(**config)\n",
    "    data = resolve.multi_process(size, parallel_num)\n",
    "\n",
    "    df = pd.DataFrame(data)\n",
    "    df.to_csv(file_name, header=None, index=False)\n",
    "    print(\"-> /\" + file_name)"
   ]
  },
  {
   "cell_type": "markdown",
   "metadata": {},
   "source": [
    "## 1.2 モデル学習"
   ]
  },
  {
   "cell_type": "code",
   "execution_count": 12,
   "metadata": {},
   "outputs": [],
   "source": [
    "#全体読み込み\n",
    "data_file_name = file_name\n",
    "df = pd.read_csv(data_file_name)\n",
    "\n",
    "#分割\n",
    "x = df.iloc[:, :11].values\n",
    "y = df.iloc[:, 11:].values\n",
    "y = np.log10(y)\n",
    "x_train, x_val_test, y_train, y_val_test = train_test_split(x, y, test_size=0.02, random_state=0)\n",
    "x_val, x_test, y_val, y_test = train_test_split(x_val_test, y_val_test, test_size=0.5, random_state=0)\n",
    "\n",
    "#x正規化\n",
    "sc = preprocessing.StandardScaler()\n",
    "sc.fit(x_train)\n",
    "x_train = sc.transform(x_train)\n",
    "x_test = sc.transform(x_test)\n",
    "x_val = sc.transform(x_val)"
   ]
  },
  {
   "cell_type": "code",
   "execution_count": 13,
   "metadata": {},
   "outputs": [
    {
     "output_type": "stream",
     "name": "stdout",
     "text": [
      "WARNING:tensorflow:From /Users/quetzal/opt/anaconda3/envs/dlabpy37/lib/python3.7/site-packages/keras/backend/tensorflow_backend.py:422: The name tf.global_variables is deprecated. Please use tf.compat.v1.global_variables instead.\n",
      "\n",
      "Train on 19599 samples, validate on 200 samples\n",
      "Epoch 1/100\n",
      "19599/19599 [==============================] - 16s 817us/step - loss: 1.9917 - val_loss: 2.0686\n",
      "Epoch 2/100\n",
      "19599/19599 [==============================] - 15s 749us/step - loss: 1.7074 - val_loss: 1.8490\n",
      "Epoch 3/100\n",
      "19599/19599 [==============================] - 15s 751us/step - loss: 1.5847 - val_loss: 1.7651\n",
      "Epoch 4/100\n",
      "19599/19599 [==============================] - 15s 751us/step - loss: 1.4813 - val_loss: 2.2942\n",
      "Epoch 5/100\n",
      "19599/19599 [==============================] - 15s 752us/step - loss: 1.4222 - val_loss: 1.6538\n",
      "Epoch 6/100\n",
      "19599/19599 [==============================] - 15s 749us/step - loss: 1.3938 - val_loss: 1.5878\n",
      "Epoch 7/100\n",
      "19599/19599 [==============================] - 15s 754us/step - loss: 1.3557 - val_loss: 1.5920\n",
      "Epoch 8/100\n",
      "19599/19599 [==============================] - 15s 741us/step - loss: 1.3459 - val_loss: 1.9660\n",
      "Epoch 9/100\n",
      "19599/19599 [==============================] - 14s 737us/step - loss: 1.3228 - val_loss: 2.0289\n",
      "Epoch 10/100\n",
      "19599/19599 [==============================] - 17s 850us/step - loss: 1.3094 - val_loss: 2.1606\n",
      "Epoch 11/100\n",
      "19599/19599 [==============================] - 14s 734us/step - loss: 1.2905 - val_loss: 1.8436\n",
      "Epoch 12/100\n",
      "19599/19599 [==============================] - 14s 738us/step - loss: 1.2765 - val_loss: 1.6874\n",
      "Epoch 13/100\n",
      "19599/19599 [==============================] - 14s 737us/step - loss: 1.2656 - val_loss: 1.4831\n",
      "Epoch 14/100\n",
      "19599/19599 [==============================] - 15s 741us/step - loss: 1.2614 - val_loss: 1.2560\n",
      "Epoch 15/100\n",
      "19599/19599 [==============================] - 14s 737us/step - loss: 1.2318 - val_loss: 1.5233\n",
      "Epoch 16/100\n",
      "19599/19599 [==============================] - 14s 733us/step - loss: 1.2369 - val_loss: 1.5114\n",
      "Epoch 17/100\n",
      "19599/19599 [==============================] - 15s 745us/step - loss: 1.2253 - val_loss: 1.3977\n",
      "Epoch 18/100\n",
      "19599/19599 [==============================] - 14s 737us/step - loss: 1.2127 - val_loss: 1.5349\n",
      "Epoch 19/100\n",
      "19599/19599 [==============================] - 15s 741us/step - loss: 1.2061 - val_loss: 1.6347\n",
      "Epoch 20/100\n",
      "19599/19599 [==============================] - 15s 749us/step - loss: 1.1964 - val_loss: 1.6152\n",
      "Epoch 21/100\n",
      "19599/19599 [==============================] - 15s 746us/step - loss: 1.1905 - val_loss: 1.4274\n",
      "Epoch 22/100\n",
      "19599/19599 [==============================] - 15s 750us/step - loss: 1.1923 - val_loss: 1.5986\n",
      "Epoch 23/100\n",
      "19599/19599 [==============================] - 14s 719us/step - loss: 1.1756 - val_loss: 1.2079\n",
      "Epoch 24/100\n",
      "19599/19599 [==============================] - 14s 720us/step - loss: 1.1770 - val_loss: 1.4114\n",
      "Epoch 25/100\n",
      "19599/19599 [==============================] - 14s 718us/step - loss: 1.1624 - val_loss: 1.4734\n",
      "Epoch 26/100\n",
      "19599/19599 [==============================] - 14s 719us/step - loss: 1.1622 - val_loss: 1.3811\n",
      "Epoch 27/100\n",
      "19599/19599 [==============================] - 14s 719us/step - loss: 1.1658 - val_loss: 1.4789\n",
      "Epoch 28/100\n",
      "19599/19599 [==============================] - 14s 723us/step - loss: 1.1590 - val_loss: 1.6201\n",
      "Epoch 29/100\n",
      "19599/19599 [==============================] - 14s 720us/step - loss: 1.1446 - val_loss: 1.3917\n",
      "Epoch 30/100\n",
      "19599/19599 [==============================] - 14s 718us/step - loss: 1.1469 - val_loss: 1.3656\n",
      "Epoch 31/100\n",
      "19599/19599 [==============================] - 14s 723us/step - loss: 1.1412 - val_loss: 1.2819\n",
      "Epoch 32/100\n",
      "19599/19599 [==============================] - 14s 724us/step - loss: 1.1297 - val_loss: 1.2198\n",
      "Epoch 33/100\n",
      "19599/19599 [==============================] - 14s 719us/step - loss: 1.1347 - val_loss: 1.1689\n",
      "Epoch 34/100\n",
      "19599/19599 [==============================] - 14s 722us/step - loss: 1.1370 - val_loss: 1.4340\n",
      "Epoch 35/100\n",
      "19599/19599 [==============================] - 14s 720us/step - loss: 1.1266 - val_loss: 1.1685\n",
      "Epoch 36/100\n",
      "19599/19599 [==============================] - 14s 719us/step - loss: 1.1182 - val_loss: 1.6158\n",
      "Epoch 37/100\n",
      "19599/19599 [==============================] - 14s 719us/step - loss: 1.1214 - val_loss: 1.1814\n",
      "Epoch 38/100\n",
      "19599/19599 [==============================] - 14s 719us/step - loss: 1.1127 - val_loss: 1.5069\n",
      "Epoch 39/100\n",
      "19599/19599 [==============================] - 14s 719us/step - loss: 1.1089 - val_loss: 1.5207\n",
      "Epoch 40/100\n",
      "19599/19599 [==============================] - 14s 719us/step - loss: 1.1133 - val_loss: 1.2398\n",
      "Epoch 41/100\n",
      "19599/19599 [==============================] - 14s 720us/step - loss: 1.1043 - val_loss: 1.3907\n",
      "Epoch 42/100\n",
      "19599/19599 [==============================] - 14s 719us/step - loss: 1.0946 - val_loss: 1.2687\n",
      "Epoch 43/100\n",
      "19599/19599 [==============================] - 14s 723us/step - loss: 1.1011 - val_loss: 1.5888\n",
      "Epoch 44/100\n",
      "19599/19599 [==============================] - 14s 739us/step - loss: 1.1022 - val_loss: 1.2561\n",
      "Epoch 45/100\n",
      "19599/19599 [==============================] - 15s 750us/step - loss: 1.0969 - val_loss: 1.3085\n",
      "Epoch 46/100\n",
      "19599/19599 [==============================] - 15s 747us/step - loss: 1.0953 - val_loss: 1.4226\n",
      "Epoch 47/100\n",
      "19599/19599 [==============================] - 15s 746us/step - loss: 1.0899 - val_loss: 1.4889\n",
      "Epoch 48/100\n",
      "19599/19599 [==============================] - 15s 744us/step - loss: 1.0800 - val_loss: 1.2777\n",
      "Epoch 49/100\n",
      "19599/19599 [==============================] - 15s 742us/step - loss: 1.0886 - val_loss: 1.3797\n",
      "Epoch 50/100\n",
      "19599/19599 [==============================] - 15s 743us/step - loss: 1.0815 - val_loss: 1.4465\n",
      "Epoch 51/100\n",
      "19599/19599 [==============================] - 15s 746us/step - loss: 1.0847 - val_loss: 1.3219\n",
      "Epoch 52/100\n",
      "19599/19599 [==============================] - 15s 744us/step - loss: 1.0901 - val_loss: 1.3348\n",
      "Epoch 53/100\n",
      "19599/19599 [==============================] - 15s 765us/step - loss: 1.0761 - val_loss: 1.3776\n",
      "Epoch 54/100\n",
      "19599/19599 [==============================] - 15s 744us/step - loss: 1.0701 - val_loss: 1.3971\n",
      "Epoch 55/100\n",
      "19599/19599 [==============================] - 15s 744us/step - loss: 1.0811 - val_loss: 1.3505\n",
      "Epoch 56/100\n",
      "19599/19599 [==============================] - 15s 743us/step - loss: 1.0627 - val_loss: 1.1499\n",
      "Epoch 57/100\n",
      "19599/19599 [==============================] - 15s 741us/step - loss: 1.0689 - val_loss: 1.4141\n",
      "Epoch 58/100\n",
      "19599/19599 [==============================] - 15s 743us/step - loss: 1.0675 - val_loss: 1.3270\n",
      "Epoch 59/100\n",
      "19599/19599 [==============================] - 15s 749us/step - loss: 1.0658 - val_loss: 1.2869\n",
      "Epoch 60/100\n",
      "19599/19599 [==============================] - 15s 741us/step - loss: 1.0575 - val_loss: 1.2882\n",
      "Epoch 61/100\n",
      "19599/19599 [==============================] - 16s 797us/step - loss: 1.0693 - val_loss: 1.2408\n",
      "Epoch 62/100\n",
      "19599/19599 [==============================] - 15s 751us/step - loss: 1.0418 - val_loss: 1.4643\n",
      "Epoch 63/100\n",
      "19599/19599 [==============================] - 15s 744us/step - loss: 1.0515 - val_loss: 1.3505\n",
      "Epoch 64/100\n",
      "19599/19599 [==============================] - 15s 743us/step - loss: 1.0654 - val_loss: 1.4813\n",
      "Epoch 65/100\n",
      "19599/19599 [==============================] - 15s 741us/step - loss: 1.0471 - val_loss: 1.3595\n",
      "Epoch 66/100\n",
      "19599/19599 [==============================] - 15s 741us/step - loss: 1.0453 - val_loss: 1.3180\n",
      "Epoch 67/100\n",
      "19599/19599 [==============================] - 15s 742us/step - loss: 1.0484 - val_loss: 1.3040\n",
      "Epoch 68/100\n",
      "19599/19599 [==============================] - 15s 741us/step - loss: 1.0402 - val_loss: 1.4630\n",
      "Epoch 69/100\n",
      "19599/19599 [==============================] - 15s 746us/step - loss: 1.0474 - val_loss: 1.4102\n",
      "Epoch 70/100\n",
      "19599/19599 [==============================] - 15s 745us/step - loss: 1.0428 - val_loss: 1.2335\n",
      "Epoch 71/100\n",
      "19599/19599 [==============================] - 15s 743us/step - loss: 1.0412 - val_loss: 1.3582\n",
      "Epoch 72/100\n",
      "19599/19599 [==============================] - 15s 744us/step - loss: 1.0395 - val_loss: 1.2494\n",
      "Epoch 73/100\n",
      "19599/19599 [==============================] - 15s 744us/step - loss: 1.0353 - val_loss: 1.2692\n",
      "Epoch 74/100\n",
      "19599/19599 [==============================] - 15s 743us/step - loss: 1.0295 - val_loss: 1.3710\n",
      "Epoch 75/100\n",
      "19599/19599 [==============================] - 15s 743us/step - loss: 1.0422 - val_loss: 1.2300\n",
      "Epoch 76/100\n",
      "19599/19599 [==============================] - 15s 745us/step - loss: 1.0236 - val_loss: 1.2904\n",
      "Epoch 77/100\n",
      "19599/19599 [==============================] - 15s 744us/step - loss: 1.0224 - val_loss: 1.3104\n",
      "Epoch 78/100\n",
      "19599/19599 [==============================] - 15s 743us/step - loss: 1.0331 - val_loss: 1.2981\n",
      "Epoch 79/100\n",
      "19599/19599 [==============================] - 17s 882us/step - loss: 1.0171 - val_loss: 1.4064\n",
      "Epoch 80/100\n",
      "19599/19599 [==============================] - 15s 756us/step - loss: 1.0255 - val_loss: 1.1520\n",
      "Epoch 81/100\n",
      "19599/19599 [==============================] - 15s 750us/step - loss: 1.0241 - val_loss: 1.2545\n",
      "Epoch 82/100\n",
      "19599/19599 [==============================] - 16s 794us/step - loss: 1.0176 - val_loss: 1.3445\n",
      "Epoch 83/100\n",
      "19599/19599 [==============================] - 15s 754us/step - loss: 1.0098 - val_loss: 1.2818\n",
      "Epoch 84/100\n",
      "19599/19599 [==============================] - 15s 765us/step - loss: 1.0253 - val_loss: 1.3513\n",
      "Epoch 85/100\n",
      "19599/19599 [==============================] - 15s 766us/step - loss: 1.0168 - val_loss: 1.3720\n",
      "Epoch 86/100\n",
      "19599/19599 [==============================] - 15s 765us/step - loss: 1.0174 - val_loss: 1.2200\n",
      "Epoch 87/100\n",
      "19599/19599 [==============================] - 15s 770us/step - loss: 1.0171 - val_loss: 1.2883\n",
      "Epoch 88/100\n",
      "19599/19599 [==============================] - 15s 762us/step - loss: 0.9997 - val_loss: 1.3836\n",
      "Epoch 89/100\n",
      "19599/19599 [==============================] - 15s 786us/step - loss: 1.0098 - val_loss: 1.2436\n",
      "Epoch 90/100\n",
      "19599/19599 [==============================] - 15s 766us/step - loss: 1.0132 - val_loss: 1.2012\n",
      "Epoch 91/100\n",
      "19599/19599 [==============================] - 15s 762us/step - loss: 1.0050 - val_loss: 1.3502\n",
      "Epoch 92/100\n",
      "19599/19599 [==============================] - 15s 761us/step - loss: 1.0060 - val_loss: 1.3196\n",
      "Epoch 93/100\n",
      "19599/19599 [==============================] - 15s 762us/step - loss: 1.0017 - val_loss: 1.5661\n",
      "Epoch 94/100\n",
      "19599/19599 [==============================] - 15s 763us/step - loss: 1.0059 - val_loss: 1.3059\n",
      "Epoch 95/100\n",
      "19599/19599 [==============================] - 15s 765us/step - loss: 0.9903 - val_loss: 1.5134\n",
      "Epoch 96/100\n",
      "19599/19599 [==============================] - 15s 763us/step - loss: 0.9967 - val_loss: 1.2639\n",
      "Epoch 97/100\n",
      "19599/19599 [==============================] - 15s 767us/step - loss: 1.0002 - val_loss: 1.0738\n",
      "Epoch 98/100\n",
      "19599/19599 [==============================] - 15s 744us/step - loss: 0.9942 - val_loss: 1.1899\n",
      "Epoch 99/100\n",
      "19599/19599 [==============================] - 15s 750us/step - loss: 0.9982 - val_loss: 1.2784\n",
      "Epoch 100/100\n",
      "19599/19599 [==============================] - 15s 745us/step - loss: 0.9938 - val_loss: 1.3815\n"
     ]
    },
    {
     "output_type": "error",
     "ename": "OSError",
     "evalue": "Unable to create file (unable to open file: name = '../data/dnn_history/20210625_model.h5', errno = 2, error message = 'No such file or directory', flags = 13, o_flags = 602)",
     "traceback": [
      "\u001b[0;31m---------------------------------------------------------------------------\u001b[0m",
      "\u001b[0;31mOSError\u001b[0m                                   Traceback (most recent call last)",
      "\u001b[0;32m<ipython-input-13-a5d33fb7601d>\u001b[0m in \u001b[0;36m<module>\u001b[0;34m\u001b[0m\n\u001b[1;32m      9\u001b[0m \u001b[0mmodel_name\u001b[0m \u001b[0;34m=\u001b[0m \u001b[0;34m'20210625_model.h5'\u001b[0m\u001b[0;34m\u001b[0m\u001b[0;34m\u001b[0m\u001b[0m\n\u001b[1;32m     10\u001b[0m \u001b[0;34m\u001b[0m\u001b[0m\n\u001b[0;32m---> 11\u001b[0;31m \u001b[0mmodel\u001b[0m\u001b[0;34m.\u001b[0m\u001b[0msave\u001b[0m\u001b[0;34m(\u001b[0m\u001b[0mdnnsave_path\u001b[0m \u001b[0;34m+\u001b[0m \u001b[0mmodel_name\u001b[0m\u001b[0;34m)\u001b[0m\u001b[0;34m\u001b[0m\u001b[0;34m\u001b[0m\u001b[0m\n\u001b[0m\u001b[1;32m     12\u001b[0m \u001b[0mhist_df\u001b[0m \u001b[0;34m=\u001b[0m \u001b[0mpd\u001b[0m\u001b[0;34m.\u001b[0m\u001b[0mDataFrame\u001b[0m\u001b[0;34m(\u001b[0m\u001b[0mhistory\u001b[0m\u001b[0;34m.\u001b[0m\u001b[0mhistory\u001b[0m\u001b[0;34m)\u001b[0m\u001b[0;34m\u001b[0m\u001b[0;34m\u001b[0m\u001b[0m\n\u001b[1;32m     13\u001b[0m \u001b[0mhist_df\u001b[0m\u001b[0;34m.\u001b[0m\u001b[0mto_csv\u001b[0m\u001b[0;34m(\u001b[0m\u001b[0mdnnsave_path\u001b[0m \u001b[0;34m+\u001b[0m \u001b[0mhistory_name\u001b[0m\u001b[0;34m)\u001b[0m\u001b[0;34m\u001b[0m\u001b[0;34m\u001b[0m\u001b[0m\n",
      "\u001b[0;32m~/opt/anaconda3/envs/dlabpy37/lib/python3.7/site-packages/keras/engine/network.py\u001b[0m in \u001b[0;36msave\u001b[0;34m(self, filepath, overwrite, include_optimizer)\u001b[0m\n\u001b[1;32m   1150\u001b[0m             \u001b[0;32mraise\u001b[0m \u001b[0mNotImplementedError\u001b[0m\u001b[0;34m\u001b[0m\u001b[0;34m\u001b[0m\u001b[0m\n\u001b[1;32m   1151\u001b[0m         \u001b[0;32mfrom\u001b[0m \u001b[0;34m.\u001b[0m\u001b[0;34m.\u001b[0m\u001b[0mmodels\u001b[0m \u001b[0;32mimport\u001b[0m \u001b[0msave_model\u001b[0m\u001b[0;34m\u001b[0m\u001b[0;34m\u001b[0m\u001b[0m\n\u001b[0;32m-> 1152\u001b[0;31m         \u001b[0msave_model\u001b[0m\u001b[0;34m(\u001b[0m\u001b[0mself\u001b[0m\u001b[0;34m,\u001b[0m \u001b[0mfilepath\u001b[0m\u001b[0;34m,\u001b[0m \u001b[0moverwrite\u001b[0m\u001b[0;34m,\u001b[0m \u001b[0minclude_optimizer\u001b[0m\u001b[0;34m)\u001b[0m\u001b[0;34m\u001b[0m\u001b[0;34m\u001b[0m\u001b[0m\n\u001b[0m\u001b[1;32m   1153\u001b[0m \u001b[0;34m\u001b[0m\u001b[0m\n\u001b[1;32m   1154\u001b[0m     \u001b[0;34m@\u001b[0m\u001b[0msaving\u001b[0m\u001b[0;34m.\u001b[0m\u001b[0mallow_write_to_gcs\u001b[0m\u001b[0;34m\u001b[0m\u001b[0;34m\u001b[0m\u001b[0m\n",
      "\u001b[0;32m~/opt/anaconda3/envs/dlabpy37/lib/python3.7/site-packages/keras/engine/saving.py\u001b[0m in \u001b[0;36msave_wrapper\u001b[0;34m(obj, filepath, overwrite, *args, **kwargs)\u001b[0m\n\u001b[1;32m    447\u001b[0m                 \u001b[0mos\u001b[0m\u001b[0;34m.\u001b[0m\u001b[0mremove\u001b[0m\u001b[0;34m(\u001b[0m\u001b[0mtmp_filepath\u001b[0m\u001b[0;34m)\u001b[0m\u001b[0;34m\u001b[0m\u001b[0;34m\u001b[0m\u001b[0m\n\u001b[1;32m    448\u001b[0m         \u001b[0;32melse\u001b[0m\u001b[0;34m:\u001b[0m\u001b[0;34m\u001b[0m\u001b[0;34m\u001b[0m\u001b[0m\n\u001b[0;32m--> 449\u001b[0;31m             \u001b[0msave_function\u001b[0m\u001b[0;34m(\u001b[0m\u001b[0mobj\u001b[0m\u001b[0;34m,\u001b[0m \u001b[0mfilepath\u001b[0m\u001b[0;34m,\u001b[0m \u001b[0moverwrite\u001b[0m\u001b[0;34m,\u001b[0m \u001b[0;34m*\u001b[0m\u001b[0margs\u001b[0m\u001b[0;34m,\u001b[0m \u001b[0;34m**\u001b[0m\u001b[0mkwargs\u001b[0m\u001b[0;34m)\u001b[0m\u001b[0;34m\u001b[0m\u001b[0;34m\u001b[0m\u001b[0m\n\u001b[0m\u001b[1;32m    450\u001b[0m \u001b[0;34m\u001b[0m\u001b[0m\n\u001b[1;32m    451\u001b[0m     \u001b[0;32mreturn\u001b[0m \u001b[0msave_wrapper\u001b[0m\u001b[0;34m\u001b[0m\u001b[0;34m\u001b[0m\u001b[0m\n",
      "\u001b[0;32m~/opt/anaconda3/envs/dlabpy37/lib/python3.7/site-packages/keras/engine/saving.py\u001b[0m in \u001b[0;36msave_model\u001b[0;34m(model, filepath, overwrite, include_optimizer)\u001b[0m\n\u001b[1;32m    538\u001b[0m             \u001b[0;32mif\u001b[0m \u001b[0;32mnot\u001b[0m \u001b[0mproceed\u001b[0m\u001b[0;34m:\u001b[0m\u001b[0;34m\u001b[0m\u001b[0;34m\u001b[0m\u001b[0m\n\u001b[1;32m    539\u001b[0m                 \u001b[0;32mreturn\u001b[0m\u001b[0;34m\u001b[0m\u001b[0;34m\u001b[0m\u001b[0m\n\u001b[0;32m--> 540\u001b[0;31m         \u001b[0;32mwith\u001b[0m \u001b[0mH5Dict\u001b[0m\u001b[0;34m(\u001b[0m\u001b[0mfilepath\u001b[0m\u001b[0;34m,\u001b[0m \u001b[0mmode\u001b[0m\u001b[0;34m=\u001b[0m\u001b[0;34m'w'\u001b[0m\u001b[0;34m)\u001b[0m \u001b[0;32mas\u001b[0m \u001b[0mh5dict\u001b[0m\u001b[0;34m:\u001b[0m\u001b[0;34m\u001b[0m\u001b[0;34m\u001b[0m\u001b[0m\n\u001b[0m\u001b[1;32m    541\u001b[0m             \u001b[0m_serialize_model\u001b[0m\u001b[0;34m(\u001b[0m\u001b[0mmodel\u001b[0m\u001b[0;34m,\u001b[0m \u001b[0mh5dict\u001b[0m\u001b[0;34m,\u001b[0m \u001b[0minclude_optimizer\u001b[0m\u001b[0;34m)\u001b[0m\u001b[0;34m\u001b[0m\u001b[0;34m\u001b[0m\u001b[0m\n\u001b[1;32m    542\u001b[0m     \u001b[0;32melif\u001b[0m \u001b[0mhasattr\u001b[0m\u001b[0;34m(\u001b[0m\u001b[0mfilepath\u001b[0m\u001b[0;34m,\u001b[0m \u001b[0;34m'write'\u001b[0m\u001b[0;34m)\u001b[0m \u001b[0;32mand\u001b[0m \u001b[0mcallable\u001b[0m\u001b[0;34m(\u001b[0m\u001b[0mfilepath\u001b[0m\u001b[0;34m.\u001b[0m\u001b[0mwrite\u001b[0m\u001b[0;34m)\u001b[0m\u001b[0;34m:\u001b[0m\u001b[0;34m\u001b[0m\u001b[0;34m\u001b[0m\u001b[0m\n",
      "\u001b[0;32m~/opt/anaconda3/envs/dlabpy37/lib/python3.7/site-packages/keras/utils/io_utils.py\u001b[0m in \u001b[0;36m__init__\u001b[0;34m(self, path, mode)\u001b[0m\n\u001b[1;32m    189\u001b[0m             \u001b[0mself\u001b[0m\u001b[0;34m.\u001b[0m\u001b[0m_is_file\u001b[0m \u001b[0;34m=\u001b[0m \u001b[0;32mFalse\u001b[0m\u001b[0;34m\u001b[0m\u001b[0;34m\u001b[0m\u001b[0m\n\u001b[1;32m    190\u001b[0m         \u001b[0;32melif\u001b[0m \u001b[0misinstance\u001b[0m\u001b[0;34m(\u001b[0m\u001b[0mpath\u001b[0m\u001b[0;34m,\u001b[0m \u001b[0msix\u001b[0m\u001b[0;34m.\u001b[0m\u001b[0mstring_types\u001b[0m\u001b[0;34m)\u001b[0m \u001b[0;32mor\u001b[0m \u001b[0m_is_path_instance\u001b[0m\u001b[0;34m(\u001b[0m\u001b[0mpath\u001b[0m\u001b[0;34m)\u001b[0m\u001b[0;34m:\u001b[0m\u001b[0;34m\u001b[0m\u001b[0;34m\u001b[0m\u001b[0m\n\u001b[0;32m--> 191\u001b[0;31m             \u001b[0mself\u001b[0m\u001b[0;34m.\u001b[0m\u001b[0mdata\u001b[0m \u001b[0;34m=\u001b[0m \u001b[0mh5py\u001b[0m\u001b[0;34m.\u001b[0m\u001b[0mFile\u001b[0m\u001b[0;34m(\u001b[0m\u001b[0mpath\u001b[0m\u001b[0;34m,\u001b[0m \u001b[0mmode\u001b[0m\u001b[0;34m=\u001b[0m\u001b[0mmode\u001b[0m\u001b[0;34m)\u001b[0m\u001b[0;34m\u001b[0m\u001b[0;34m\u001b[0m\u001b[0m\n\u001b[0m\u001b[1;32m    192\u001b[0m             \u001b[0mself\u001b[0m\u001b[0;34m.\u001b[0m\u001b[0m_is_file\u001b[0m \u001b[0;34m=\u001b[0m \u001b[0;32mTrue\u001b[0m\u001b[0;34m\u001b[0m\u001b[0;34m\u001b[0m\u001b[0m\n\u001b[1;32m    193\u001b[0m         \u001b[0;32melif\u001b[0m \u001b[0misinstance\u001b[0m\u001b[0;34m(\u001b[0m\u001b[0mpath\u001b[0m\u001b[0;34m,\u001b[0m \u001b[0mdict\u001b[0m\u001b[0;34m)\u001b[0m\u001b[0;34m:\u001b[0m\u001b[0;34m\u001b[0m\u001b[0;34m\u001b[0m\u001b[0m\n",
      "\u001b[0;32m~/opt/anaconda3/envs/dlabpy37/lib/python3.7/site-packages/h5py/_hl/files.py\u001b[0m in \u001b[0;36m__init__\u001b[0;34m(self, name, mode, driver, libver, userblock_size, swmr, rdcc_nslots, rdcc_nbytes, rdcc_w0, track_order, **kwds)\u001b[0m\n\u001b[1;32m    406\u001b[0m                 fid = make_fid(name, mode, userblock_size,\n\u001b[1;32m    407\u001b[0m                                \u001b[0mfapl\u001b[0m\u001b[0;34m,\u001b[0m \u001b[0mfcpl\u001b[0m\u001b[0;34m=\u001b[0m\u001b[0mmake_fcpl\u001b[0m\u001b[0;34m(\u001b[0m\u001b[0mtrack_order\u001b[0m\u001b[0;34m=\u001b[0m\u001b[0mtrack_order\u001b[0m\u001b[0;34m)\u001b[0m\u001b[0;34m,\u001b[0m\u001b[0;34m\u001b[0m\u001b[0;34m\u001b[0m\u001b[0m\n\u001b[0;32m--> 408\u001b[0;31m                                swmr=swmr)\n\u001b[0m\u001b[1;32m    409\u001b[0m \u001b[0;34m\u001b[0m\u001b[0m\n\u001b[1;32m    410\u001b[0m             \u001b[0;32mif\u001b[0m \u001b[0misinstance\u001b[0m\u001b[0;34m(\u001b[0m\u001b[0mlibver\u001b[0m\u001b[0;34m,\u001b[0m \u001b[0mtuple\u001b[0m\u001b[0;34m)\u001b[0m\u001b[0;34m:\u001b[0m\u001b[0;34m\u001b[0m\u001b[0;34m\u001b[0m\u001b[0m\n",
      "\u001b[0;32m~/opt/anaconda3/envs/dlabpy37/lib/python3.7/site-packages/h5py/_hl/files.py\u001b[0m in \u001b[0;36mmake_fid\u001b[0;34m(name, mode, userblock_size, fapl, fcpl, swmr)\u001b[0m\n\u001b[1;32m    177\u001b[0m         \u001b[0mfid\u001b[0m \u001b[0;34m=\u001b[0m \u001b[0mh5f\u001b[0m\u001b[0;34m.\u001b[0m\u001b[0mcreate\u001b[0m\u001b[0;34m(\u001b[0m\u001b[0mname\u001b[0m\u001b[0;34m,\u001b[0m \u001b[0mh5f\u001b[0m\u001b[0;34m.\u001b[0m\u001b[0mACC_EXCL\u001b[0m\u001b[0;34m,\u001b[0m \u001b[0mfapl\u001b[0m\u001b[0;34m=\u001b[0m\u001b[0mfapl\u001b[0m\u001b[0;34m,\u001b[0m \u001b[0mfcpl\u001b[0m\u001b[0;34m=\u001b[0m\u001b[0mfcpl\u001b[0m\u001b[0;34m)\u001b[0m\u001b[0;34m\u001b[0m\u001b[0;34m\u001b[0m\u001b[0m\n\u001b[1;32m    178\u001b[0m     \u001b[0;32melif\u001b[0m \u001b[0mmode\u001b[0m \u001b[0;34m==\u001b[0m \u001b[0;34m'w'\u001b[0m\u001b[0;34m:\u001b[0m\u001b[0;34m\u001b[0m\u001b[0;34m\u001b[0m\u001b[0m\n\u001b[0;32m--> 179\u001b[0;31m         \u001b[0mfid\u001b[0m \u001b[0;34m=\u001b[0m \u001b[0mh5f\u001b[0m\u001b[0;34m.\u001b[0m\u001b[0mcreate\u001b[0m\u001b[0;34m(\u001b[0m\u001b[0mname\u001b[0m\u001b[0;34m,\u001b[0m \u001b[0mh5f\u001b[0m\u001b[0;34m.\u001b[0m\u001b[0mACC_TRUNC\u001b[0m\u001b[0;34m,\u001b[0m \u001b[0mfapl\u001b[0m\u001b[0;34m=\u001b[0m\u001b[0mfapl\u001b[0m\u001b[0;34m,\u001b[0m \u001b[0mfcpl\u001b[0m\u001b[0;34m=\u001b[0m\u001b[0mfcpl\u001b[0m\u001b[0;34m)\u001b[0m\u001b[0;34m\u001b[0m\u001b[0;34m\u001b[0m\u001b[0m\n\u001b[0m\u001b[1;32m    180\u001b[0m     \u001b[0;32melif\u001b[0m \u001b[0mmode\u001b[0m \u001b[0;34m==\u001b[0m \u001b[0;34m'a'\u001b[0m\u001b[0;34m:\u001b[0m\u001b[0;34m\u001b[0m\u001b[0;34m\u001b[0m\u001b[0m\n\u001b[1;32m    181\u001b[0m         \u001b[0;31m# Open in append mode (read/write).\u001b[0m\u001b[0;34m\u001b[0m\u001b[0;34m\u001b[0m\u001b[0;34m\u001b[0m\u001b[0m\n",
      "\u001b[0;32mh5py/_objects.pyx\u001b[0m in \u001b[0;36mh5py._objects.with_phil.wrapper\u001b[0;34m()\u001b[0m\n",
      "\u001b[0;32mh5py/_objects.pyx\u001b[0m in \u001b[0;36mh5py._objects.with_phil.wrapper\u001b[0;34m()\u001b[0m\n",
      "\u001b[0;32mh5py/h5f.pyx\u001b[0m in \u001b[0;36mh5py.h5f.create\u001b[0;34m()\u001b[0m\n",
      "\u001b[0;31mOSError\u001b[0m: Unable to create file (unable to open file: name = '../data/dnn_history/20210625_model.h5', errno = 2, error message = 'No such file or directory', flags = 13, o_flags = 602)"
     ]
    }
   ],
   "source": [
    "input_dim = x.shape[1]\n",
    "output_dim = y.shape[1]\n",
    "\n",
    "model = networks.get_dnn(input_dim, output_dim)\n",
    "history = model.fit(x_train, y_train, batch_size=64, epochs=100, verbose=1, validation_data=(x_val, y_val))"
   ]
  },
  {
   "cell_type": "code",
   "execution_count": 15,
   "metadata": {},
   "outputs": [],
   "source": [
    "dnnsave_path = 'DB/dnn_history/'\n",
    "history_name = '20210625a_history.csv'\n",
    "model_name = '20210625a_model.h5'\n",
    "\n",
    "model.save(dnnsave_path + model_name)\n",
    "hist_df = pd.DataFrame(history.history)\n",
    "hist_df.to_csv(dnnsave_path + history_name)"
   ]
  },
  {
   "cell_type": "code",
   "execution_count": null,
   "metadata": {},
   "outputs": [],
   "source": []
  }
 ],
 "metadata": {
  "kernelspec": {
   "name": "python3",
   "display_name": "Python 3.7.7 64-bit ('dlabpy37': conda)"
  },
  "language_info": {
   "name": "python",
   "version": "3.7.7"
  },
  "metadata": {
   "interpreter": {
    "hash": "c13f70dffa5cdf3bd9c6c39df9dc61a13f2ef6bb2d6b8fdd793e76224c87a417"
   }
  },
  "interpreter": {
   "hash": "c13f70dffa5cdf3bd9c6c39df9dc61a13f2ef6bb2d6b8fdd793e76224c87a417"
  }
 },
 "nbformat": 4,
 "nbformat_minor": 4
}