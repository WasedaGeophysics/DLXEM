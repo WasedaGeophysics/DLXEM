{
 "cells": [
  {
   "cell_type": "markdown",
   "source": [
    "# EMDL Launcher"
   ],
   "metadata": {}
  },
  {
   "cell_type": "code",
   "execution_count": 15,
   "source": [
    "import os, sys, shutil, traceback\r\n",
    "\r\n",
    "line1 = \"Type a name for your new project : \"\r\n",
    "line2 = \\\r\n",
    "    \"Select \\n\\\r\n",
    "    r + [enter] : RESOLVE\\n\\\r\n",
    "    h + [enter] : HeliTEM\\n\\\r\n",
    "    s + [Enter] : SkyTEM\\n\\\r\n",
    "    v + [Enter] : VTEM\\n\"\r\n",
    "\r\n",
    "project_name = input(line1)\r\n",
    "xpsystem = input(line2)\r\n",
    "project_dir = \"project/\" + project_name\r\n",
    "\r\n",
    "if os.path.exists(project_dir):\r\n",
    "    try:\r\n",
    "        raise OSError(filename=project_dir)\r\n",
    "    except:\r\n",
    "        print(\"Project '{}' already exists. Rerun this cell and type a new project name.\".format(project_name))\r\n",
    "        sys.exit\r\n",
    "else:\r\n",
    "    if xpsystem == 'r':\r\n",
    "        shutil.copytree(\"core/resolve_unit\", project_dir)\r\n",
    "    elif xpsystem == 'v':\r\n",
    "        shutil.copytree(\"core/vtem_unit\", project_dir)\r\n",
    "    else:\r\n",
    "        print(\"Invalid key command.\\nRerun this cell and enter a appropriate key command for your exploration system.\")\r\n",
    "        sys.exit\r\n",
    "\r\n",
    "    print(\"Please close this notebook and move to the notebook in your new project\")"
   ],
   "outputs": [
    {
     "output_type": "stream",
     "name": "stdout",
     "text": [
      "Project 'base' already exists. Rerun this cell and type a new project name.\n"
     ]
    }
   ],
   "metadata": {
    "tags": [
     "\"hide-input\""
    ]
   }
  }
 ],
 "metadata": {
  "celltoolbar": "Tags",
  "interpreter": {
   "hash": "a1f19b6b93099fbb35e7aa51388aca4be5893934d8934217bb720d29ca36e5b1"
  },
  "kernelspec": {
   "name": "python3",
   "display_name": "Python 3.8.10 64-bit ('dlxem': conda)"
  },
  "language_info": {
   "codemirror_mode": {
    "name": "ipython",
    "version": 3
   },
   "file_extension": ".py",
   "mimetype": "text/x-python",
   "name": "python",
   "nbconvert_exporter": "python",
   "pygments_lexer": "ipython3",
   "version": "3.8.10"
  }
 },
 "nbformat": 4,
 "nbformat_minor": 4
}