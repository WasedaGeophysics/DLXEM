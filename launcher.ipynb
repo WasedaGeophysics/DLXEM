{
 "cells": [
  {
   "cell_type": "markdown",
   "metadata": {},
   "source": [
    "# EMDL Launcher"
   ]
  },
  {
   "cell_type": "code",
   "execution_count": 1,
   "metadata": {
    "tags": [
     "\"hide-input\""
    ]
   },
   "outputs": [
    {
     "name": "stdout",
     "output_type": "stream",
     "text": [
      "Type a name for your new project : test2\n",
      "Select \n",
      "    r + [enter] : RESOLVE\n",
      "    h + [enter] : HeliTEM\n",
      "    s + [Enter] : SkyTEM\n",
      "    v + [Enter] : VTEM\n",
      "r\n",
      "Please close this notebook and move to the notebook in your new project\n"
     ]
    }
   ],
   "source": [
    "import os, sys, shutil, traceback\n",
    "\n",
    "line1 = \"Type a name for your new project : \"\n",
    "line2 = \\\n",
    "    \"Select \\n\\\n",
    "    r + [enter] : RESOLVE\\n\\\n",
    "    h + [enter] : HeliTEM\\n\\\n",
    "    s + [Enter] : SkyTEM\\n\\\n",
    "    v + [Enter] : VTEM\\n\"\n",
    "\n",
    "project_name = input(line1)\n",
    "xpsystem = input(line2)\n",
    "project_dir = \"project/\" + project_name\n",
    "\n",
    "if os.path.exists(project_dir):\n",
    "    try:\n",
    "        raise OSError(filename=project_dir)\n",
    "    except:\n",
    "        print(\"Project '{}' already exists. Rerun this cell and type a new project name.\".format(project_name))\n",
    "        sys.exit\n",
    "else:\n",
    "    if xpsystem == 'r':\n",
    "        shutil.copytree(\"core/resolve_unit\", project_dir)\n",
    "    elif xpsystem == 'v':\n",
    "        shutil.copytree(\"core/vtem_unit\", project_dir)\n",
    "    else:\n",
    "        print(\"Invalid key command.\\nRerun this cell and enter a appropriate key command for your exploration system.\")\n",
    "        sys.exit\n",
    "\n",
    "    print(\"Please close this notebook and move to the notebook in your new project\")"
   ]
  },
  {
   "cell_type": "code",
   "execution_count": null,
   "metadata": {},
   "outputs": [],
   "source": []
  }
 ],
 "metadata": {
  "celltoolbar": "Tags",
  "interpreter": {
   "hash": "a1f19b6b93099fbb35e7aa51388aca4be5893934d8934217bb720d29ca36e5b1"
  },
  "kernelspec": {
   "display_name": "Python 3",
   "language": "python",
   "name": "python3"
  },
  "language_info": {
   "codemirror_mode": {
    "name": "ipython",
    "version": 3
   },
   "file_extension": ".py",
   "mimetype": "text/x-python",
   "name": "python",
   "nbconvert_exporter": "python",
   "pygments_lexer": "ipython3",
   "version": "3.7.7"
  }
 },
 "nbformat": 4,
 "nbformat_minor": 4
}
